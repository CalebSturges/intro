{
 "cells": [
  {
   "cell_type": "markdown",
   "metadata": {
    "collapsed": false
   },
   "source": [
    "Learn Python \n",
    "Caleb Sturges\n"
   ]
  },
  {
   "cell_type": "markdown",
   "metadata": {},
   "source": [
    "Ex.1 show how to comment, declare varables and print\n"
   ]
  },
  {
   "cell_type": "code",
   "execution_count": 2,
   "metadata": {
    "collapsed": false
   },
   "outputs": [
    {
     "name": "stdout",
     "output_type": "stream",
     "text": [
      "this is a print statement\n"
     ]
    }
   ],
   "source": [
    "#this is a comment\n",
    "x = \"This is a var decleration\"\n",
    "print \"this is a print statement\""
   ]
  },
  {
   "cell_type": "markdown",
   "metadata": {},
   "source": [
    "Ex.2 define the following data types: boolean, integer, float, list, tuple, dictionary and set\n"
   ]
  },
  {
   "cell_type": "code",
   "execution_count": 10,
   "metadata": {
    "collapsed": false
   },
   "outputs": [],
   "source": [
    "mybool = True\n",
    "myint = 2\n",
    "myfloat = .4\n",
    "mystring = \"this is a string\"\n",
    "mylist = [[3,4,5]]\n",
    "mytup = (1,2,3)\n",
    "mydict = {\"one\": 1, \"two\": 2,\"three\": 3}\n",
    "myset = set([1,2,3,4,5])"
   ]
  },
  {
   "cell_type": "markdown",
   "metadata": {},
   "source": [
    "Ex.3 show how to construct control structures: if-then-else, for loop and while loop"
   ]
  },
  {
   "cell_type": "code",
   "execution_count": 20,
   "metadata": {
    "collapsed": false
   },
   "outputs": [
    {
     "name": "stdout",
     "output_type": "stream",
     "text": [
      "mybool is true\n",
      "[3, 4, 5]\n",
      "0\n",
      "1\n",
      "2\n",
      "3\n"
     ]
    }
   ],
   "source": [
    "if mybool == True:\n",
    "    print 'mybool is true'\n",
    "else:\n",
    "    print 'mybool is false'\n",
    "    \n",
    "for i in mylist:\n",
    "    print i\n",
    "\n",
    "x=0\n",
    "while x < 4:\n",
    "    print x\n",
    "    x+=1"
   ]
  },
  {
   "cell_type": "markdown",
   "metadata": {},
   "source": [
    "Ex.4 define a function with a nam e, including docstring, \\* args, and \\*\\* kwargs"
   ]
  },
  {
   "cell_type": "code",
   "execution_count": 36,
   "metadata": {
    "collapsed": false
   },
   "outputs": [],
   "source": [
    "def myfunc(x, y):\n",
    "    return x+y\n",
    "\n",
    "def myargfunc(*args):\n",
    "    print \"inputs a varable number of args including:\"\n",
    "    for i in args:\n",
    "        print  i \n",
    "    return args\n",
    "\n",
    "def myvarargfunc(**kwargs):\n",
    "    print \"inputs a varable number key value pairs including:\"\n",
    "    for i in args:\n",
    "        print  i \n",
    "    return kwargs\n"
   ]
  },
  {
   "cell_type": "code",
   "execution_count": null,
   "metadata": {
    "collapsed": true
   },
   "outputs": [],
   "source": []
  }
 ],
 "metadata": {
  "kernelspec": {
   "display_name": "Python 2",
   "language": "python",
   "name": "python2"
  },
  "language_info": {
   "codemirror_mode": {
    "name": "ipython",
    "version": 2
   },
   "file_extension": ".py",
   "mimetype": "text/x-python",
   "name": "python",
   "nbconvert_exporter": "python",
   "pygments_lexer": "ipython2",
   "version": "2.7.8"
  },
  "name": "learnpython.ipynb"
 },
 "nbformat": 4,
 "nbformat_minor": 0
}
